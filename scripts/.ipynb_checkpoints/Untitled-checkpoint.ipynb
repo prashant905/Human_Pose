{
 "cells": [
  {
   "cell_type": "code",
   "execution_count": 1,
   "metadata": {
    "collapsed": true,
    "deletable": true,
    "editable": true
   },
   "outputs": [],
   "source": [
    "import cv2\n",
    "import sys\n",
    "import argparse\n",
    "import numpy as np\n",
    "import os\n",
    "import multiprocessing\n",
    "import tensorflow as tf\n",
    "from tensorflow.contrib.layers import variance_scaling_initializer\n",
    "from tensorpack import *\n",
    "from tensorpack.utils.stats import RatioCounter\n",
    "from tensorpack.tfutils.symbolic_functions import *\n",
    "from tensorpack.tfutils.summary import *"
   ]
  },
  {
   "cell_type": "code",
   "execution_count": null,
   "metadata": {
    "collapsed": true,
    "deletable": true,
    "editable": true
   },
   "outputs": [],
   "source": [
    "with tf.variable_scope('fc_regression') as scope:\n",
    "                \n",
    "                num_inputs = int(net.fc7_dropout.get_shape()[1])\n",
    "                w, b = net.get_fc_weights(net_data=None,\n",
    "                                          num_inputs=num_inputs,\n",
    "                                          num_outputs=n_joints * 2,\n",
    "                                          wights_std=0.01,\n",
    "                                          bias_init_value=0.0)\n",
    "                net.fc_regression = tf.nn.xw_plus_b(net.fc7_dropout, w, b, name=scope.name)"
   ]
  },
  {
   "cell_type": "code",
   "execution_count": 7,
   "metadata": {
    "collapsed": false
   },
   "outputs": [
    {
     "ename": "NameError",
     "evalue": "name 'Model' is not defined",
     "output_type": "error",
     "traceback": [
      "\u001b[0;31m---------------------------------------------------------------------------\u001b[0m",
      "\u001b[0;31mNameError\u001b[0m                                 Traceback (most recent call last)",
      "\u001b[0;32m<ipython-input-7-f39e459f9ec4>\u001b[0m in \u001b[0;36m<module>\u001b[0;34m()\u001b[0m\n\u001b[1;32m      2\u001b[0m \u001b[0mmodel\u001b[0m\u001b[0;34m=\u001b[0m \u001b[0mresnet\u001b[0m\u001b[0;34m.\u001b[0m\u001b[0mResnetBuilder\u001b[0m\u001b[0;34m.\u001b[0m\u001b[0mbuild_resnet_18\u001b[0m\u001b[0;34m(\u001b[0m\u001b[0;34m(\u001b[0m\u001b[0;36m3\u001b[0m\u001b[0;34m,\u001b[0m \u001b[0;36m227\u001b[0m\u001b[0;34m,\u001b[0m \u001b[0;36m227\u001b[0m\u001b[0;34m)\u001b[0m\u001b[0;34m,\u001b[0m \u001b[0;36m3\u001b[0m\u001b[0;34m)\u001b[0m\u001b[0;34m\u001b[0m\u001b[0m\n\u001b[1;32m      3\u001b[0m \u001b[0mlayer_name\u001b[0m \u001b[0;34m=\u001b[0m \u001b[0;34m'dense'\u001b[0m\u001b[0;34m\u001b[0m\u001b[0m\n\u001b[0;32m----> 4\u001b[0;31m intermediate_layer_model = Model(inputs=model.input,\n\u001b[0m\u001b[1;32m      5\u001b[0m                                  outputs=model.get_layer(layer_name).output)\n",
      "\u001b[0;31mNameError\u001b[0m: name 'Model' is not defined"
     ]
    }
   ],
   "source": [
    "import resnet\n",
    "import keras\n",
    "model= resnet.ResnetBuilder.build_resnet_18((3, 227, 227), 3)\n",
    "layer_name = 'dense'\n",
    "intermediate_layer_model = Model(inputs=model.input,\n",
    "                                 outputs=model.get_layer(layer_name).output)"
   ]
  },
  {
   "cell_type": "code",
   "execution_count": 12,
   "metadata": {
    "collapsed": false,
    "deletable": true,
    "editable": true
   },
   "outputs": [],
   "source": [
    "DEPTH = 18\n",
    "\n",
    "def shortcut(l, n_in, n_out, stride):\n",
    "            if n_in != n_out:\n",
    "                return Conv2D('convshortcut', l, n_out, 1, stride=stride)\n",
    "            else:\n",
    "                return l       \n",
    "def basicblock(l, ch_out, stride, preact):\n",
    "            ch_in = l.get_shape().as_list()[1]\n",
    "            if preact == 'both_preact':\n",
    "                l = BNReLU('preact', l)\n",
    "                input = l\n",
    "            elif preact != 'no_preact':\n",
    "                input = l\n",
    "                l = BNReLU('preact', l)\n",
    "            else:\n",
    "                input = l\n",
    "            l = Conv2D('conv1', l, ch_out, 3, stride=stride, nl=BNReLU)\n",
    "            l = Conv2D('conv2', l, ch_out, 3)\n",
    "            return l + shortcut(input, ch_in, ch_out, stride)\n",
    "\n",
    "        \n",
    "def bottleneck(l, ch_out, stride, preact):\n",
    "            ch_in = l.get_shape().as_list()[1]\n",
    "            if preact == 'both_preact':\n",
    "                l = BNReLU('preact', l)\n",
    "                input = l\n",
    "            elif preact != 'no_preact':\n",
    "                input = l\n",
    "                l = BNReLU('preact', l)\n",
    "            else:\n",
    "                input = l\n",
    "            l = Conv2D('conv1', l, ch_out, 1, nl=BNReLU)\n",
    "            l = Conv2D('conv2', l, ch_out, 3, stride=stride, nl=BNReLU)\n",
    "            l = Conv2D('conv3', l, ch_out * 4, 1)\n",
    "            return l + shortcut(input, ch_in, ch_out * 4, stride)\n",
    "        \n",
    "        "
   ]
  },
  {
   "cell_type": "code",
   "execution_count": 1,
   "metadata": {
    "collapsed": true,
    "deletable": true,
    "editable": true
   },
   "outputs": [],
   "source": [
    "import tensorflow.contrib.slim as slim"
   ]
  },
  {
   "cell_type": "code",
   "execution_count": 13,
   "metadata": {
    "collapsed": false,
    "deletable": true,
    "editable": true
   },
   "outputs": [],
   "source": [
    "def layer(l, layername, block_func, features, count, stride, first=False):\n",
    "            with tf.variable_scope(layername):\n",
    "                with tf.variable_scope('block0'):\n",
    "                    l = block_func(l, features, stride,\n",
    "                                   'no_preact' if first else 'both_preact')\n",
    "                for i in range(1, count):\n",
    "                    with tf.variable_scope('block{}'.format(i)):\n",
    "                        l = block_func(l, features, 1, 'default')\n",
    "                return l"
   ]
  },
  {
   "cell_type": "code",
   "execution_count": 18,
   "metadata": {
    "collapsed": false,
    "deletable": true,
    "editable": true
   },
   "outputs": [
    {
     "ename": "NameError",
     "evalue": "name 'image' is not defined",
     "output_type": "error",
     "traceback": [
      "\u001b[0;31m---------------------------------------------------------------------------\u001b[0m",
      "\u001b[0;31mNameError\u001b[0m                                 Traceback (most recent call last)",
      "\u001b[0;32m<ipython-input-18-d8955a422cd0>\u001b[0m in \u001b[0;36m<module>\u001b[0;34m()\u001b[0m\n\u001b[1;32m      7\u001b[0m \u001b[0mdefs\u001b[0m\u001b[0;34m,\u001b[0m \u001b[0mblock_func\u001b[0m \u001b[0;34m=\u001b[0m \u001b[0mcfg\u001b[0m\u001b[0;34m[\u001b[0m\u001b[0mDEPTH\u001b[0m\u001b[0;34m]\u001b[0m\u001b[0;34m\u001b[0m\u001b[0m\n\u001b[1;32m      8\u001b[0m \u001b[0;32mwith\u001b[0m \u001b[0margscope\u001b[0m\u001b[0;34m(\u001b[0m\u001b[0mConv2D\u001b[0m\u001b[0;34m,\u001b[0m \u001b[0mnl\u001b[0m\u001b[0;34m=\u001b[0m\u001b[0mtf\u001b[0m\u001b[0;34m.\u001b[0m\u001b[0midentity\u001b[0m\u001b[0;34m,\u001b[0m \u001b[0muse_bias\u001b[0m\u001b[0;34m=\u001b[0m\u001b[0mFalse\u001b[0m\u001b[0;34m,\u001b[0m\u001b[0mW_init\u001b[0m\u001b[0;34m=\u001b[0m\u001b[0mvariance_scaling_initializer\u001b[0m\u001b[0;34m(\u001b[0m\u001b[0mmode\u001b[0m\u001b[0;34m=\u001b[0m\u001b[0;34m'FAN_OUT'\u001b[0m\u001b[0;34m)\u001b[0m\u001b[0;34m)\u001b[0m\u001b[0;34m,\u001b[0m                 \u001b[0margscope\u001b[0m\u001b[0;34m(\u001b[0m\u001b[0;34m[\u001b[0m\u001b[0mConv2D\u001b[0m\u001b[0;34m,\u001b[0m \u001b[0mMaxPooling\u001b[0m\u001b[0;34m,\u001b[0m \u001b[0mGlobalAvgPooling\u001b[0m\u001b[0;34m,\u001b[0m \u001b[0mBatchNorm\u001b[0m\u001b[0;34m]\u001b[0m\u001b[0;34m,\u001b[0m \u001b[0mdata_format\u001b[0m\u001b[0;34m=\u001b[0m\u001b[0;34m'NCHW'\u001b[0m\u001b[0;34m)\u001b[0m\u001b[0;34m:\u001b[0m\u001b[0;34m\u001b[0m\u001b[0m\n\u001b[0;32m----> 9\u001b[0;31m         logits = (LinearWrap(image)\n\u001b[0m\u001b[1;32m     10\u001b[0m                   \u001b[0;34m.\u001b[0m\u001b[0mConv2D\u001b[0m\u001b[0;34m(\u001b[0m\u001b[0;34m'conv0'\u001b[0m\u001b[0;34m,\u001b[0m \u001b[0;36m64\u001b[0m\u001b[0;34m,\u001b[0m \u001b[0;36m7\u001b[0m\u001b[0;34m,\u001b[0m \u001b[0mstride\u001b[0m\u001b[0;34m=\u001b[0m\u001b[0;36m2\u001b[0m\u001b[0;34m,\u001b[0m \u001b[0mnl\u001b[0m\u001b[0;34m=\u001b[0m\u001b[0mBNReLU\u001b[0m\u001b[0;34m)\u001b[0m\u001b[0;34m\u001b[0m\u001b[0m\n\u001b[1;32m     11\u001b[0m                   \u001b[0;34m.\u001b[0m\u001b[0mMaxPooling\u001b[0m\u001b[0;34m(\u001b[0m\u001b[0;34m'pool0'\u001b[0m\u001b[0;34m,\u001b[0m \u001b[0mshape\u001b[0m\u001b[0;34m=\u001b[0m\u001b[0;36m3\u001b[0m\u001b[0;34m,\u001b[0m \u001b[0mstride\u001b[0m\u001b[0;34m=\u001b[0m\u001b[0;36m2\u001b[0m\u001b[0;34m,\u001b[0m \u001b[0mpadding\u001b[0m\u001b[0;34m=\u001b[0m\u001b[0;34m'SAME'\u001b[0m\u001b[0;34m)\u001b[0m\u001b[0;34m\u001b[0m\u001b[0m\n",
      "\u001b[0;31mNameError\u001b[0m: name 'image' is not defined"
     ]
    }
   ],
   "source": [
    "cfg = {     18: ([2, 2, 2, 2], basicblock),\n",
    "            34: ([3, 4, 6, 3], basicblock),\n",
    "            50: ([3, 4, 6, 3], bottleneck),\n",
    "            101: ([3, 4, 23, 3], bottleneck)\n",
    "        }\n",
    "defs, block_func = cfg[DEPTH]\n",
    "with argscope(Conv2D, nl=tf.identity, use_bias=False,W_init=variance_scaling_initializer(mode='FAN_OUT')), \\\n",
    "                argscope([Conv2D, MaxPooling, GlobalAvgPooling, BatchNorm], data_format='NCHW'):\n",
    "        logits = (LinearWrap(image)\n",
    "                  .Conv2D('conv0', 64, 7, stride=2, nl=BNReLU)\n",
    "                  .MaxPooling('pool0', shape=3, stride=2, padding='SAME')\n",
    "                  .apply(layer, 'group0', block_func, 64, defs[0], 1, first=True)\n",
    "                    .apply(layer, 'group1', block_func, 128, defs[1], 2)\n",
    "                    .apply(layer, 'group2', block_func, 256, defs[2], 2)\n",
    "                    .apply(layer, 'group3', block_func, 512, defs[3], 2)\n",
    "                    .BNReLU('bnlast')\n",
    "                    .GlobalAvgPooling('gap')\n",
    "                    .FullyConnected('linear', 1000, nl=tf.identity)())   "
   ]
  },
  {
   "cell_type": "code",
   "execution_count": 21,
   "metadata": {
    "collapsed": false,
    "deletable": true,
    "editable": true
   },
   "outputs": [
    {
     "name": "stdout",
     "output_type": "stream",
     "text": [
      "([2, 2, 2, 2], <function basicblock at 0x7faf95f5eed8>)\n"
     ]
    }
   ],
   "source": [
    " cfg = {\n",
    "            18: ([2, 2, 2, 2], basicblock),\n",
    "            34: ([3, 4, 6, 3], basicblock),\n",
    "            50: ([3, 4, 6, 3], bottleneck),\n",
    "            101: ([3, 4, 23, 3], bottleneck)\n",
    "        }\n",
    "print cfg[18]"
   ]
  }
 ],
 "metadata": {
  "kernelspec": {
   "display_name": "Python 2",
   "language": "python",
   "name": "python2"
  },
  "language_info": {
   "codemirror_mode": {
    "name": "ipython",
    "version": 2
   },
   "file_extension": ".py",
   "mimetype": "text/x-python",
   "name": "python",
   "nbconvert_exporter": "python",
   "pygments_lexer": "ipython2",
   "version": "2.7.12"
  }
 },
 "nbformat": 4,
 "nbformat_minor": 2
}
