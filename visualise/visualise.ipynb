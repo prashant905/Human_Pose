{
 "cells": [
  {
   "cell_type": "code",
   "execution_count": 9,
   "metadata": {
    "collapsed": false
   },
   "outputs": [
    {
     "ename": "error",
     "evalue": "/build/opencv-SviWsf/opencv-2.4.9.1+dfsg/modules/highgui/src/loadsave.cpp:275: error: (-2) could not find a writer for the specified extension in function imwrite_\n",
     "output_type": "error",
     "traceback": [
      "\u001b[0;31m---------------------------------------------------------------------------\u001b[0m",
      "\u001b[0;31merror\u001b[0m                                     Traceback (most recent call last)",
      "\u001b[0;32m<ipython-input-9-4cb7887c999c>\u001b[0m in \u001b[0;36m<module>\u001b[0;34m()\u001b[0m\n\u001b[1;32m     74\u001b[0m \u001b[0;34m\u001b[0m\u001b[0m\n\u001b[1;32m     75\u001b[0m         \u001b[0mimg\u001b[0m \u001b[0;34m=\u001b[0m \u001b[0mdraw_joints\u001b[0m\u001b[0;34m(\u001b[0m\u001b[0mimg\u001b[0m\u001b[0;34m,\u001b[0m \u001b[0mjoints\u001b[0m\u001b[0;34m)\u001b[0m\u001b[0;34m\u001b[0m\u001b[0m\n\u001b[0;32m---> 76\u001b[0;31m         \u001b[0mcv\u001b[0m\u001b[0;34m.\u001b[0m\u001b[0mimwrite\u001b[0m\u001b[0;34m(\u001b[0m\u001b[0;34m'%s/%s'\u001b[0m \u001b[0;34m%\u001b[0m \u001b[0;34m(\u001b[0m\u001b[0mout_dirs\u001b[0m\u001b[0;34m,\u001b[0m\u001b[0mimg\u001b[0m\u001b[0;34m)\u001b[0m\u001b[0;34m,\u001b[0m\u001b[0mimg\u001b[0m\u001b[0;34m)\u001b[0m\u001b[0;34m\u001b[0m\u001b[0m\n\u001b[0m\u001b[1;32m     77\u001b[0m         \u001b[0mcv\u001b[0m\u001b[0;34m.\u001b[0m\u001b[0mimwrite\u001b[0m\u001b[0;34m(\u001b[0m\u001b[0;34m'%s/%s'\u001b[0m \u001b[0;34m%\u001b[0m \u001b[0;34m(\u001b[0m\u001b[0mout_dir\u001b[0m\u001b[0;34m,\u001b[0m \u001b[0mimg_fn\u001b[0m\u001b[0;34m)\u001b[0m\u001b[0;34m,\u001b[0m \u001b[0mimg\u001b[0m\u001b[0;34m)\u001b[0m\u001b[0;34m\u001b[0m\u001b[0m\n\u001b[1;32m     78\u001b[0m \u001b[0;32mprint\u001b[0m \u001b[0mimg_fn\u001b[0m\u001b[0;34m\u001b[0m\u001b[0m\n",
      "\u001b[0;31merror\u001b[0m: /build/opencv-SviWsf/opencv-2.4.9.1+dfsg/modules/highgui/src/loadsave.cpp:275: error: (-2) could not find a writer for the specified extension in function imwrite_\n"
     ]
    }
   ],
   "source": [
    "\n",
    "import os\n",
    "import cv2 as cv\n",
    "import csv\n",
    "\n",
    "joint_name = {\n",
    "    0: 'right_ankle',\n",
    "    1: 'right_knee',\n",
    "    2: 'right_hip',\n",
    "    3: 'left_hip',\n",
    "    4: 'left_knee',\n",
    "    5: 'left_ankle',\n",
    "    6: 'pelvis',\n",
    "    7: 'clavicle',\n",
    "    8: 'neck',\n",
    "    9: 'head_top',\n",
    "    10: 'right_wrist',\n",
    "    11: 'right_elbow',\n",
    "    12: 'right_shoulder',\n",
    "    13: 'left_shoulder',\n",
    "    14: 'left_elbow',\n",
    "    15: 'left_wrist'\n",
    "}\n",
    "\n",
    "\n",
    "def draw_joints(img, points, head_rect=None):\n",
    "    # lower body\n",
    "    if len(points) > 5:\n",
    "        cv.line(img, points[0], points[1], (255, 100, 100), 3)\n",
    "        cv.line(img, points[1], points[2], (255, 100, 100), 3)\n",
    "        cv.line(img, points[3], points[4], (255, 100, 100), 3)\n",
    "        cv.line(img, points[4], points[5], (255, 100, 100), 3)\n",
    "\n",
    "    # torso\n",
    "    if len(points) > 13:\n",
    "        cv.line(img, points[2], points[6], (0, 0, 255), 3)\n",
    "        cv.line(img, points[6], points[3], (0, 0, 255), 3)\n",
    "        cv.line(img, points[2], points[12], (0, 0, 255), 3)\n",
    "        cv.line(img, points[12], points[7], (0, 0, 255), 3)\n",
    "        cv.line(img, points[7], points[13], (0, 0, 255), 3)\n",
    "        cv.line(img, points[13], points[3], (0, 0, 255), 3)\n",
    "\n",
    "    # arms\n",
    "    if len(points) > 15:\n",
    "        cv.line(img, points[12], points[11], (0, 255, 0), 3)\n",
    "        cv.line(img, points[11], points[10], (0, 255, 0), 3)\n",
    "        cv.line(img, points[13], points[14], (0, 255, 0), 3)\n",
    "        cv.line(img, points[14], points[15], (0, 255, 0), 3)\n",
    "\n",
    "    # head\n",
    "    if len(points) > 9:\n",
    "        cv.line(img, points[8], points[9], (0, 0, 255), 3)\n",
    "\n",
    "    # joints\n",
    "    for k, p in enumerate(points):\n",
    "        cv.circle(img, p, 5, (0, 255, 0), -1)\n",
    "        cv.circle(img, p, 3, (0, 0, 255), -1)\n",
    "        cv.putText(img, '%d' % k, p,\n",
    "                   cv.FONT_HERSHEY_SIMPLEX, 0.5, (0, 0, 255), 1)\n",
    "\n",
    "    return img\n",
    "\n",
    "if __name__ == '__main__':\n",
    "    out_dir = '/notebooks/deeppose_tf/datasets/mpii/img/render'\n",
    "    if not os.path.exists(out_dir):\n",
    "        os.mkdir(out_dir)\n",
    "    for line in open('/notebooks/deeppose_tf/datasets/test_joints.csv'):\n",
    "        datum = line.strip().split(',')\n",
    "        img_fn = datum[0]\n",
    "        img = cv.imread('/notebooks/deeppose_tf/datasets/mpii/img/%s' % img_fn)\n",
    "        joints = [int(float(j)) for j in datum[1:]]\n",
    "        joints = zip(joints[0::2], joints[1::2])\n",
    "\n",
    "        img = draw_joints(img, joints)\n",
    "        cv.imwrite('%s/%s' % (out_dir, img_fn), img)\n",
    "print img_fn"
   ]
  }
 ],
 "metadata": {
  "kernelspec": {
   "display_name": "Python 2",
   "language": "python",
   "name": "python2"
  },
  "language_info": {
   "codemirror_mode": {
    "name": "ipython",
    "version": 2
   },
   "file_extension": ".py",
   "mimetype": "text/x-python",
   "name": "python",
   "nbconvert_exporter": "python",
   "pygments_lexer": "ipython2",
   "version": "2.7.12"
  }
 },
 "nbformat": 4,
 "nbformat_minor": 2
}
